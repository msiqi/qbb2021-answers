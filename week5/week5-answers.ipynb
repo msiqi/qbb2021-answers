{
 "cells": [
  {
   "cell_type": "code",
   "execution_count": 6,
   "metadata": {},
   "outputs": [],
   "source": [
    "import matplotlib.pyplot as plt\n",
    "import numpy as np"
   ]
  },
  {
   "cell_type": "code",
   "execution_count": 3,
   "metadata": {},
   "outputs": [],
   "source": [
    "g1e = open(\"G1E_bar.txt\")\n",
    "er4 = open(\"ER4_bar.txt\")\n",
    "peaks_gained = open(\"peaks_gained_bar.txt\")\n",
    "peaks_lost = open(\"peaks_lost_bar.txt\")"
   ]
  },
  {
   "cell_type": "code",
   "execution_count": 4,
   "metadata": {},
   "outputs": [],
   "source": [
    "g1e_features = {}\n",
    "er4_features = {}\n",
    "peaks_gained_features = {}\n",
    "peaks_lost_features = {}\n",
    "\n",
    "for line in g1e:\n",
    "    fields = line.split()\n",
    "    feature = fields[0]\n",
    "    count = int(fields[1])\n",
    "    \n",
    "    g1e_features[feature] = count\n",
    "    \n",
    "for line in er4:\n",
    "    fields = line.split()\n",
    "    feature = fields[0]\n",
    "    count = int(fields[1])\n",
    "    \n",
    "    er4_features[feature] = count\n",
    "    \n",
    "for line in peaks_gained:\n",
    "    fields = line.split()\n",
    "    feature = fields[0]\n",
    "    count = int(fields[1])\n",
    "    \n",
    "    peaks_gained_features[feature] = count\n",
    "\n",
    "for line in peaks_lost:\n",
    "    fields = line.split()\n",
    "    feature = fields[0]\n",
    "    count = int(fields[1])\n",
    "    \n",
    "    peaks_lost_features[feature] = count"
   ]
  },
  {
   "cell_type": "code",
   "execution_count": 5,
   "metadata": {},
   "outputs": [
    {
     "name": "stdout",
     "output_type": "stream",
     "text": [
      "{'exon': 83, 'intron': 218, 'promoter': 37}\n",
      "{'exon': 116, 'intron': 288, 'promoter': 58}\n",
      "{'exon': 37, 'intron': 76, 'promoter': 22}\n",
      "{'exon': 8, 'intron': 14, 'promoter': 1}\n"
     ]
    }
   ],
   "source": [
    "print(g1e_features)\n",
    "print(er4_features)\n",
    "print(peaks_gained_features)\n",
    "print(peaks_lost_features)"
   ]
  },
  {
   "cell_type": "code",
   "execution_count": 9,
   "metadata": {},
   "outputs": [],
   "source": [
    "labels = g1e_features.keys()\n",
    "g1e_counts = g1e_features.values()\n",
    "er4_counts = er4_features.values()\n",
    "peaks_gained_counts = peaks_gained_features.values()\n",
    "peaks_lost_counts = peaks_lost_features.values()\n",
    "\n",
    "x = np.arange(len(labels))\n",
    "width = 0.35"
   ]
  },
  {
   "cell_type": "code",
   "execution_count": 20,
   "metadata": {},
   "outputs": [
    {
     "data": {
      "image/png": "[encoded data removed]",
      "text/plain": [
       "<Figure size 432x288 with 2 Axes>"
      ]
     },
     "metadata": {
      "needs_background": "light"
     },
     "output_type": "display_data"
    }
   ],
   "source": [
    "fig, ax = plt.subplots(ncols = 2)\n",
    "ax[0].bar(x-width/2, g1e_counts, width, label = \"G1E\")\n",
    "ax[0].bar(x+width/2, er4_counts, width, label = \"ER4\")\n",
    "\n",
    "ax[0].set_ylabel(\"Number of peaks\")\n",
    "ax[0].set_xticks(x)\n",
    "ax[0].set_xticklabels(labels)\n",
    "ax[0].legend()\n",
    "\n",
    "ax[1].bar(x-width/2, peaks_gained_counts, width, label = \"Peaks gained\")\n",
    "ax[1].bar(x+width/2, peaks_lost_counts, width, label = \"Peaks lost\")\n",
    "\n",
    "ax[1].set_ylabel(\"Number of peaks\")\n",
    "ax[1].set_xticks(x)\n",
    "ax[1].set_xticklabels(labels)\n",
    "ax[1].legend()\n",
    "\n",
    "plt.show()"
   ]
  },
  {
   "cell_type": "code",
   "execution_count": null,
   "metadata": {},
   "outputs": [],
   "source": []
  },
  {
   "cell_type": "code",
   "execution_count": null,
   "metadata": {},
   "outputs": [],
   "source": []
  }
 ],
 "metadata": {
  "kernelspec": {
   "display_name": "Python 3",
   "language": "python",
   "name": "python3"
  },
  "language_info": {
   "codemirror_mode": {
    "name": "ipython",
    "version": 3
   },
   "file_extension": ".py",
   "mimetype": "text/x-python",
   "name": "python",
   "nbconvert_exporter": "python",
   "pygments_lexer": "ipython3",
   "version": "3.7.1"
  }
 },
 "nbformat": 4,
 "nbformat_minor": 4
}
