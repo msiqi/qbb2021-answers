{
 "cells": [
  {
   "cell_type": "code",
   "execution_count": 1,
   "metadata": {},
   "outputs": [],
   "source": [
    "import matplotlib.pyplot as plt\n",
    "from scipy.stats import ttest_ind as ttest"
   ]
  },
  {
   "cell_type": "code",
   "execution_count": 2,
   "metadata": {},
   "outputs": [],
   "source": [
    "promoter_file = open(\"promoters.bed\")\n",
    "\n",
    "e4_cpg_file = open(\"output/CpG_context_SRR3083926_1.chr6_bismark_bt2_pe.deduplicated.txt\")\n",
    "e55_cpg_file = open(\"output/CpG_context_SRR3083929_1.chr6_bismark_bt2_pe.deduplicated.txt\")\n",
    "\n",
    "e4_chg_file = open(\"output/CHG_context_SRR3083926_1.chr6_bismark_bt2_pe.deduplicated.txt\")\n",
    "e55_chg_file = open(\"output/CHG_context_SRR3083929_1.chr6_bismark_bt2_pe.deduplicated.txt\")\n",
    "\n",
    "e4_chh_file = open(\"output/CHH_context_SRR3083926_1.chr6_bismark_bt2_pe.deduplicated.txt\")\n",
    "e55_chh_file = open(\"output/CHH_context_SRR3083929_1.chr6_bismark_bt2_pe.deduplicated.txt\")"
   ]
  },
  {
   "cell_type": "code",
   "execution_count": 3,
   "metadata": {},
   "outputs": [],
   "source": [
    "e4_files = [e4_cpg_file, e4_chg_file, e4_chh_file]\n",
    "e55_files = [e55_cpg_file, e55_chg_file, e55_chh_file]"
   ]
  },
  {
   "cell_type": "code",
   "execution_count": 4,
   "metadata": {},
   "outputs": [],
   "source": [
    "#obtain gene name and start/end positions from promoters.bed\n",
    "\n",
    "promoters_e4 = []\n",
    "promoters_e55 = []\n",
    "\n",
    "for line in promoter_file:\n",
    "    \n",
    "    fields = line.split(\"\\t\")\n",
    "    start = int(fields[1])\n",
    "    end = int(fields[2])\n",
    "    gene_name = fields[3]\n",
    "\n",
    "    promoters_e4.append([gene_name, start, end, 0, 0])\n",
    "    promoters_e55.append([gene_name, start, end, 0, 0])"
   ]
  },
  {
   "cell_type": "code",
   "execution_count": 5,
   "metadata": {
    "scrolled": true
   },
   "outputs": [
    {
     "data": {
      "text/plain": [
       "[['Mpp6', 50108240, 50110240, 1, 155],\n",
       " ['Dfna5', 50261769, 50263769, 3, 182],\n",
       " ['Osbpl3', 50382837, 50384837, 1, 320],\n",
       " ['Cycs', 50566474, 50568474, 3, 222],\n",
       " ['Mir6371', 50570397, 50572397, 11, 461],\n",
       " ['Npvf', 50654393, 50656393, 4, 186],\n",
       " ['Mir148a', 51269910, 51271910, 0, 131],\n",
       " ['Gm6559', 51377709, 51379709, 3, 377],\n",
       " ['Nfe2l3', 51430669, 51432669, 1, 290],\n",
       " ['Cbx3', 51468615, 51470615, 1, 322],\n",
       " ['Hnrnpa2b1', 51469894, 51471894, 5, 250],\n",
       " ['Snx10', 51521902, 51523902, 6, 435],\n",
       " ['Skap2', 52012549, 52014549, 5, 327],\n",
       " ['Halr1', 52100948, 52102948, 3, 424],\n",
       " ['Hotairm1', 52156523, 52158523, 1, 149],\n",
       " ['Hoxa1', 52158317, 52160317, 3, 166],\n",
       " ['Hoxaas2', 52163673, 52165673, 25, 289],\n",
       " ['Hoxa2', 52164831, 52166831, 27, 313],\n",
       " ['Hoxa4', 52191703, 52193703, 0, 314],\n",
       " ['Hoxaas3', 52199123, 52201123, 8, 360],\n",
       " ['Hoxa5', 52204587, 52206587, 2, 175],\n",
       " ['Hoxa6', 52208624, 52210624, 3, 470],\n",
       " ['Hoxa3', 52213067, 52215067, 23, 232],\n",
       " ['Mira', 52215288, 52217288, 2, 228],\n",
       " ['Hoxa7', 52218573, 52220573, 11, 366],\n",
       " ['Hoxa9', 52227370, 52229370, 4, 343],\n",
       " ['Mir196b', 52230165, 52232165, 3, 267],\n",
       " ['Hoxa10', 52240854, 52242854, 1, 254],\n",
       " ['Hoxa11os', 52243242, 52245242, 2, 322],\n",
       " ['Hoxa11', 52245810, 52247810, 0, 207],\n",
       " ['Hottip', 52260774, 52262774, 9, 240],\n",
       " ['Hoxa13', 52260880, 52262880, 9, 240],\n",
       " ['Evx1', 52311497, 52313497, 0, 396],\n",
       " ['Evx1os', 52314832, 52316832, 6, 67],\n",
       " ['Hibadh', 52640300, 52642300, 2, 127],\n",
       " ['Tax1bp1', 52711728, 52713728, 5, 385],\n",
       " ['Jazf1', 52909620, 52911620, 5, 357],\n",
       " ['Gm4872', 53219163, 53221163, 12, 243],\n",
       " ['Creb5', 53285302, 53287302, 5, 286],\n",
       " ['Tril', 53820825, 53822825, 0, 372],\n",
       " ['Cpvl', 53978673, 53980673, 7, 448],\n",
       " ['Chn2', 54037931, 54039931, 58, 167],\n",
       " ['Prr15', 54325011, 54327011, 2, 161],\n",
       " ['Wipf3', 54450882, 54452882, 4, 288],\n",
       " ['Scrn1', 54566382, 54568382, 1, 202],\n",
       " ['Plekha8', 54593110, 54595110, 2, 374],\n",
       " ['Fkbp14', 54593128, 54595128, 2, 374],\n",
       " ['Mturn', 54679623, 54681623, 0, 246],\n",
       " ['Znrf2', 54814915, 54816915, 1, 260],\n",
       " ['Nod1', 54972612, 54974612, 6, 391],\n",
       " ['Ggct', 54992867, 54994867, 3, 228],\n",
       " ['Gars', 55036000, 55038000, 3, 372],\n",
       " ['Crhr2', 55117913, 55119913, 2, 260],\n",
       " ['Inmt', 55174990, 55176990, 5, 180],\n",
       " ['Fam188b', 55201382, 55203382, 0, 246],\n",
       " ['Aqp1', 55334298, 55336298, 2, 103],\n",
       " ['Ghrhr', 55374294, 55376294, 1, 241],\n",
       " ['Adcyap1r1', 55449977, 55451977, 1, 334],\n",
       " ['Neurod6', 55681263, 55683263, 9, 425],\n",
       " ['Gm3279', 55682570, 55684570, 14, 311],\n",
       " ['Ccdc129', 55835017, 55837017, 3, 272],\n",
       " ['Ppp1r17', 56015514, 56017514, 1, 441],\n",
       " ['Pde1c', 56362392, 56364392, 5, 310],\n",
       " ['Lsm5', 56704699, 56706699, 12, 393],\n",
       " ['Avl9', 56712904, 56714904, 5, 341],\n",
       " ['Kbtbd2', 56797813, 56799813, 1, 176],\n",
       " ['Fkbp9', 56830058, 56832058, 8, 340],\n",
       " ['Nt5c3', 56923932, 56925932, 1, 385],\n",
       " ['Vmn1r4', 56954512, 56956512, 13, 718],\n",
       " ['Vmn1r5', 56983341, 56985341, 5, 368],\n",
       " ['Vmn1r6', 57000354, 57002354, 6, 299],\n",
       " ['Vmn1r7', 57025273, 57027273, 6, 594],\n",
       " ['Vmn1r8', 57033912, 57035912, 2, 237],\n",
       " ['Vmn1r9', 57068894, 57070894, 1, 172],\n",
       " ['Vmn1r10', 57111424, 57113424, 2, 325],\n",
       " ['Vmn1r11', 57135352, 57137352, 0, 448],\n",
       " ['Vmn1r12', 57156919, 57158919, 3, 508],\n",
       " ['Vmn1r13', 57207857, 57209857, 8, 504],\n",
       " ['Vmn1r14', 57231438, 57233438, 4, 280],\n",
       " ['Vmn1r15', 57256148, 57258148, 2, 307],\n",
       " ['Vmn1r16', 57323635, 57325635, 10, 587],\n",
       " ['Vmn1r17', 57361378, 57363378, 5, 486],\n",
       " ['Vmn1r18', 57390567, 57392567, 9, 313],\n",
       " ['Vmn1r19', 57402463, 57404463, 4, 419],\n",
       " ['Vmn1r20', 57429690, 57431690, 0, 283],\n",
       " ['Ppm1k', 57535426, 57537426, 4, 475],\n",
       " ['Herc6', 57578991, 57580991, 2, 332],\n",
       " ['Pyurf', 57692078, 57694078, 3, 499],\n",
       " ['Lancl2', 57700454, 57702454, 2, 462],\n",
       " ['Vopp1', 57825125, 57827125, 8, 358],\n",
       " ['Vmn1r21', 57844457, 57846457, 3, 162],\n",
       " ['Vmn1r22', 57900990, 57902990, 4, 417],\n",
       " ['Vmn1r23', 57926791, 57928791, 3, 220],\n",
       " ['Vmn1r24', 57956531, 57958531, 1, 231],\n",
       " ['Vmn1r25', 57979302, 57981302, 0, 272],\n",
       " ['Vmn1r26', 58009202, 58011202, 3, 486],\n",
       " ['Vmn1r27', 58216017, 58218017, 3, 286],\n",
       " ['Vmn1r28', 58263173, 58265173, 5, 501],\n",
       " ['Vmn1r29', 58305296, 58307296, 2, 316],\n",
       " ['Vmn1r30', 58435845, 58437845, 3, 319],\n",
       " ['Vmn1r31', 58472878, 58474878, 1, 444],\n",
       " ['Abcg2', 58594671, 58596671, 2, 583],\n",
       " ['Herc3', 58831699, 58833699, 1, 245],\n",
       " ['Nap1l5', 58907126, 58909126, 21, 271],\n",
       " ['Fam13a', 59024502, 59026502, 2, 245],\n",
       " ['Tigd2', 59206869, 59208869, 1, 254],\n",
       " ['Gprin3', 59426290, 59428290, 4, 180]]"
      ]
     },
     "execution_count": 5,
     "metadata": {},
     "output_type": "execute_result"
    }
   ],
   "source": [
    "#obtain count methylated and unmethylated for sites in each promoter\n",
    "#this takes a long time to run\n",
    "\n",
    "for file in e4_files:\n",
    "    \n",
    "    for line in file:\n",
    "        if line.startswith(\"Bismark\"):\n",
    "            continue \n",
    "            \n",
    "        fields = line.split(\"\\t\")\n",
    "        meth_state = fields[1]\n",
    "        pos = int(fields[3])\n",
    "        \n",
    "        for promoter in promoters_e4:\n",
    "            start = promoter[1]\n",
    "            end = promoter[2]\n",
    "            \n",
    "            if start <= pos <= end:\n",
    "                if meth_state == \"+\":\n",
    "                    promoter[3] += 1\n",
    "                else:\n",
    "                    promoter[4] += 1\n",
    "promoters_e4"
   ]
  },
  {
   "cell_type": "code",
   "execution_count": 6,
   "metadata": {},
   "outputs": [
    {
     "data": {
      "text/plain": [
       "[['Mpp6', 50108240, 50110240, 1, 119],\n",
       " ['Dfna5', 50261769, 50263769, 16, 383],\n",
       " ['Osbpl3', 50382837, 50384837, 26, 436],\n",
       " ['Cycs', 50566474, 50568474, 28, 315],\n",
       " ['Mir6371', 50570397, 50572397, 28, 637],\n",
       " ['Npvf', 50654393, 50656393, 36, 660],\n",
       " ['Mir148a', 51269910, 51271910, 6, 203],\n",
       " ['Gm6559', 51377709, 51379709, 26, 490],\n",
       " ['Nfe2l3', 51430669, 51432669, 19, 618],\n",
       " ['Cbx3', 51468615, 51470615, 0, 629],\n",
       " ['Hnrnpa2b1', 51469894, 51471894, 0, 241],\n",
       " ['Snx10', 51521902, 51523902, 12, 505],\n",
       " ['Skap2', 52012549, 52014549, 6, 406],\n",
       " ['Halr1', 52100948, 52102948, 58, 722],\n",
       " ['Hotairm1', 52156523, 52158523, 2, 207],\n",
       " ['Hoxa1', 52158317, 52160317, 0, 45],\n",
       " ['Hoxaas2', 52163673, 52165673, 0, 315],\n",
       " ['Hoxa2', 52164831, 52166831, 1, 159],\n",
       " ['Hoxa4', 52191703, 52193703, 15, 565],\n",
       " ['Hoxaas3', 52199123, 52201123, 9, 544],\n",
       " ['Hoxa5', 52204587, 52206587, 6, 458],\n",
       " ['Hoxa6', 52208624, 52210624, 5, 178],\n",
       " ['Hoxa3', 52213067, 52215067, 8, 390],\n",
       " ['Mira', 52215288, 52217288, 10, 354],\n",
       " ['Hoxa7', 52218573, 52220573, 5, 293],\n",
       " ['Hoxa9', 52227370, 52229370, 0, 290],\n",
       " ['Mir196b', 52230165, 52232165, 11, 416],\n",
       " ['Hoxa10', 52240854, 52242854, 17, 712],\n",
       " ['Hoxa11os', 52243242, 52245242, 0, 360],\n",
       " ['Hoxa11', 52245810, 52247810, 2, 318],\n",
       " ['Hottip', 52260774, 52262774, 1, 161],\n",
       " ['Hoxa13', 52260880, 52262880, 1, 161],\n",
       " ['Evx1', 52311497, 52313497, 6, 392],\n",
       " ['Evx1os', 52314832, 52316832, 7, 539],\n",
       " ['Hibadh', 52640300, 52642300, 27, 663],\n",
       " ['Tax1bp1', 52711728, 52713728, 13, 338],\n",
       " ['Jazf1', 52909620, 52911620, 22, 585],\n",
       " ['Gm4872', 53219163, 53221163, 40, 526],\n",
       " ['Creb5', 53285302, 53287302, 5, 140],\n",
       " ['Tril', 53820825, 53822825, 13, 502],\n",
       " ['Cpvl', 53978673, 53980673, 18, 445],\n",
       " ['Chn2', 54037931, 54039931, 10, 352],\n",
       " ['Prr15', 54325011, 54327011, 20, 470],\n",
       " ['Wipf3', 54450882, 54452882, 26, 393],\n",
       " ['Scrn1', 54566382, 54568382, 20, 447],\n",
       " ['Plekha8', 54593110, 54595110, 3, 312],\n",
       " ['Fkbp14', 54593128, 54595128, 3, 306],\n",
       " ['Mturn', 54679623, 54681623, 11, 669],\n",
       " ['Znrf2', 54814915, 54816915, 26, 598],\n",
       " ['Nod1', 54972612, 54974612, 30, 968],\n",
       " ['Ggct', 54992867, 54994867, 9, 285],\n",
       " ['Gars', 55036000, 55038000, 7, 332],\n",
       " ['Crhr2', 55117913, 55119913, 10, 143],\n",
       " ['Inmt', 55174990, 55176990, 17, 523],\n",
       " ['Fam188b', 55201382, 55203382, 24, 655],\n",
       " ['Aqp1', 55334298, 55336298, 10, 198],\n",
       " ['Ghrhr', 55374294, 55376294, 25, 650],\n",
       " ['Adcyap1r1', 55449977, 55451977, 15, 479],\n",
       " ['Neurod6', 55681263, 55683263, 18, 273],\n",
       " ['Gm3279', 55682570, 55684570, 25, 328],\n",
       " ['Ccdc129', 55835017, 55837017, 18, 320],\n",
       " ['Ppp1r17', 56015514, 56017514, 10, 354],\n",
       " ['Pde1c', 56362392, 56364392, 11, 384],\n",
       " ['Lsm5', 56704699, 56706699, 34, 800],\n",
       " ['Avl9', 56712904, 56714904, 14, 383],\n",
       " ['Kbtbd2', 56797813, 56799813, 21, 745],\n",
       " ['Fkbp9', 56830058, 56832058, 26, 645],\n",
       " ['Nt5c3', 56923932, 56925932, 14, 789],\n",
       " ['Vmn1r4', 56954512, 56956512, 17, 1052],\n",
       " ['Vmn1r5', 56983341, 56985341, 12, 979],\n",
       " ['Vmn1r6', 57000354, 57002354, 13, 856],\n",
       " ['Vmn1r7', 57025273, 57027273, 21, 973],\n",
       " ['Vmn1r8', 57033912, 57035912, 10, 845],\n",
       " ['Vmn1r9', 57068894, 57070894, 11, 703],\n",
       " ['Vmn1r10', 57111424, 57113424, 5, 794],\n",
       " ['Vmn1r11', 57135352, 57137352, 14, 610],\n",
       " ['Vmn1r12', 57156919, 57158919, 5, 545],\n",
       " ['Vmn1r13', 57207857, 57209857, 6, 278],\n",
       " ['Vmn1r14', 57231438, 57233438, 24, 658],\n",
       " ['Vmn1r15', 57256148, 57258148, 11, 603],\n",
       " ['Vmn1r16', 57323635, 57325635, 8, 645],\n",
       " ['Vmn1r17', 57361378, 57363378, 15, 815],\n",
       " ['Vmn1r18', 57390567, 57392567, 8, 777],\n",
       " ['Vmn1r19', 57402463, 57404463, 21, 768],\n",
       " ['Vmn1r20', 57429690, 57431690, 6, 496],\n",
       " ['Ppm1k', 57535426, 57537426, 27, 427],\n",
       " ['Herc6', 57578991, 57580991, 21, 550],\n",
       " ['Pyurf', 57692078, 57694078, 25, 537],\n",
       " ['Lancl2', 57700454, 57702454, 12, 499],\n",
       " ['Vopp1', 57825125, 57827125, 6, 248],\n",
       " ['Vmn1r21', 57844457, 57846457, 12, 476],\n",
       " ['Vmn1r22', 57900990, 57902990, 11, 614],\n",
       " ['Vmn1r23', 57926791, 57928791, 11, 698],\n",
       " ['Vmn1r24', 57956531, 57958531, 16, 524],\n",
       " ['Vmn1r25', 57979302, 57981302, 6, 616],\n",
       " ['Vmn1r26', 58009202, 58011202, 7, 928],\n",
       " ['Vmn1r27', 58216017, 58218017, 8, 519],\n",
       " ['Vmn1r28', 58263173, 58265173, 12, 967],\n",
       " ['Vmn1r29', 58305296, 58307296, 16, 563],\n",
       " ['Vmn1r30', 58435845, 58437845, 6, 534],\n",
       " ['Vmn1r31', 58472878, 58474878, 7, 563],\n",
       " ['Abcg2', 58594671, 58596671, 9, 315],\n",
       " ['Herc3', 58831699, 58833699, 22, 601],\n",
       " ['Nap1l5', 58907126, 58909126, 9, 185],\n",
       " ['Fam13a', 59024502, 59026502, 9, 482],\n",
       " ['Tigd2', 59206869, 59208869, 16, 473],\n",
       " ['Gprin3', 59426290, 59428290, 14, 483]]"
      ]
     },
     "execution_count": 6,
     "metadata": {},
     "output_type": "execute_result"
    }
   ],
   "source": [
    "for file in e55_files:\n",
    "    \n",
    "    for line in file:\n",
    "        if line.startswith(\"Bismark\"):\n",
    "            continue \n",
    "            \n",
    "        fields = line.split(\"\\t\")\n",
    "        meth_state = fields[1]\n",
    "        pos = int(fields[3])\n",
    "        \n",
    "        for promoter in promoters_e55:\n",
    "            start = promoter[1]\n",
    "            end = promoter[2]\n",
    "            \n",
    "            if start <= pos <= end:\n",
    "                if meth_state == \"+\":\n",
    "                    promoter[3] += 1\n",
    "                else:\n",
    "                    promoter[4] += 1\n",
    "promoters_e55"
   ]
  },
  {
   "cell_type": "code",
   "execution_count": 7,
   "metadata": {},
   "outputs": [],
   "source": [
    "#obtain lists of % sites methylated for each promoter\n",
    "#make separate list for hox genes\n",
    "\n",
    "e4_hist = []\n",
    "e55_hist = []\n",
    "\n",
    "e4_hox = []\n",
    "e55_hox = []\n",
    "\n",
    "for promoter in promoters_e4:\n",
    "    gene_name = promoter[0]\n",
    "    \n",
    "    meth = promoter[3]\n",
    "    unmeth = promoter[4]\n",
    "    meth_score = meth/(meth+unmeth)*100\n",
    "    \n",
    "    if \"Hox\" in gene_name:\n",
    "        e4_hox.append(meth_score)\n",
    "    else:\n",
    "        e4_hist.append(meth_score)\n",
    "        \n",
    "for promoter in promoters_e55:\n",
    "    gene_name = promoter[0]\n",
    "    \n",
    "    meth = promoter[3]\n",
    "    unmeth = promoter[4]\n",
    "    meth_score = meth/(meth+unmeth)*100\n",
    "    \n",
    "    if \"Hox\" in gene_name:\n",
    "        e55_hox.append(meth_score)\n",
    "    else:\n",
    "        e55_hist.append(meth_score)"
   ]
  },
  {
   "cell_type": "code",
   "execution_count": 8,
   "metadata": {},
   "outputs": [
    {
     "data": {
      "image/png": "[encoded data removed]",
      "text/plain": [
       "<Figure size 432x288 with 1 Axes>"
      ]
     },
     "metadata": {
      "needs_background": "light"
     },
     "output_type": "display_data"
    }
   ],
   "source": [
    "fig, ax = plt.subplots()\n",
    "ax.hist(e4_hist+e4_hox, bins=20)\n",
    "\n",
    "ax.set_title(\"Histogram of e4 promoter % sites methylated\")\n",
    "ax.set_xlabel(\"% sites methylated\")\n",
    "ax.set_ylabel(\"Number of promoters\")\n",
    "plt.show()"
   ]
  },
  {
   "cell_type": "code",
   "execution_count": 9,
   "metadata": {},
   "outputs": [
    {
     "data": {
      "image/png": "[encoded data removed]",
      "text/plain": [
       "<Figure size 432x288 with 1 Axes>"
      ]
     },
     "metadata": {
      "needs_background": "light"
     },
     "output_type": "display_data"
    }
   ],
   "source": [
    "fig, ax = plt.subplots()\n",
    "ax.hist(e55_hist+e55_hox, bins=20)\n",
    "\n",
    "ax.set_title(\"Histogram of e5.5 promoter % sites methylated\")\n",
    "ax.set_xlabel(\"% sites methylated\")\n",
    "ax.set_ylabel(\"Number of promoters\")\n",
    "plt.show()"
   ]
  },
  {
   "cell_type": "code",
   "execution_count": 10,
   "metadata": {
    "scrolled": true
   },
   "outputs": [
    {
     "data": {
      "image/png": "[encoded data removed]",
      "text/plain": [
       "<Figure size 432x288 with 1 Axes>"
      ]
     },
     "metadata": {
      "needs_background": "light"
     },
     "output_type": "display_data"
    }
   ],
   "source": [
    "fig, ax = plt.subplots()\n",
    "ax.scatter(e55_hist, e4_hist, label = \"All genes\")\n",
    "ax.scatter(e55_hox, e4_hox, label = \"Hox genes\")\n",
    "\n",
    "ax.set_title(\"Scatter plot of e4 by e5.5 promoter % sites methylated\")\n",
    "ax.set_xlabel(\"e5.5 % sites methylated\")\n",
    "ax.set_ylabel(\"e4 % sited methylated\")\n",
    "\n",
    "ax.legend()\n",
    "\n",
    "plt.show()"
   ]
  },
  {
   "cell_type": "code",
   "execution_count": 11,
   "metadata": {},
   "outputs": [
    {
     "data": {
      "text/plain": [
       "Ttest_indResult(statistic=1.53569854750514, pvalue=0.9361898795134075)"
      ]
     },
     "execution_count": 11,
     "metadata": {},
     "output_type": "execute_result"
    }
   ],
   "source": [
    "ttest(e4_hox, e4_hist, alternative = \"less\")"
   ]
  },
  {
   "cell_type": "code",
   "execution_count": 12,
   "metadata": {},
   "outputs": [
    {
     "data": {
      "text/plain": [
       "Ttest_indResult(statistic=-3.6409658841358237, pvalue=0.00021176202652390744)"
      ]
     },
     "execution_count": 12,
     "metadata": {},
     "output_type": "execute_result"
    }
   ],
   "source": [
    "ttest(e55_hox, e55_hist, alternative = \"less\")"
   ]
  },
  {
   "cell_type": "markdown",
   "metadata": {},
   "source": [
    "Hox gene promoters are not significantly less methylated than other gene promoters in E4\n",
    "\n",
    "Hox gene promoters are significantly less methylated than other gene promoters in E5.5"
   ]
  },
  {
   "cell_type": "code",
   "execution_count": null,
   "metadata": {},
   "outputs": [],
   "source": []
  }
 ],
 "metadata": {
  "kernelspec": {
   "display_name": "Python 3",
   "language": "python",
   "name": "python3"
  },
  "language_info": {
   "codemirror_mode": {
    "name": "ipython",
    "version": 3
   },
   "file_extension": ".py",
   "mimetype": "text/x-python",
   "name": "python",
   "nbconvert_exporter": "python",
   "pygments_lexer": "ipython3",
   "version": "3.7.1"
  }
 },
 "nbformat": 4,
 "nbformat_minor": 4
}
